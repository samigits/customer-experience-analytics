{
 "cells": [
  {
   "cell_type": "code",
   "execution_count": 9,
   "id": "5cae0292",
   "metadata": {},
   "outputs": [
    {
     "name": "stdout",
     "output_type": "stream",
     "text": [
      "✅ Inserted 1480 rows into reviews.\n"
     ]
    }
   ],
   "source": [
    "import oracledb\n",
    "import csv\n",
    "from datetime import datetime\n",
    "\n",
    "# ---- Config ----\n",
    "DSN = \"localhost/XEPDB1\"          # service name for XE PDB\n",
    "USER = \"system\"\n",
    "PASSWORD = \"12345678\"\n",
    "\n",
    "CSV_FILE = \"../../data/clean_reviews.csv\"\n",
    "\n",
    "# ---- Helper: parse date safely ----\n",
    "def parse_date(s):\n",
    "    if not s:\n",
    "        return None\n",
    "    for fmt in (\"%Y-%m-%d\", \"%d-%m-%Y\", \"%Y/%m/%d\"):\n",
    "        try:\n",
    "            return datetime.strptime(s.strip(), fmt).date()\n",
    "        except ValueError:\n",
    "            continue\n",
    "    return None  # if no format matches\n",
    "\n",
    "# ---- Main ----\n",
    "def main():\n",
    "    # Use thin mode (no Instant Client needed)\n",
    "    with oracledb.connect(user=USER, password=PASSWORD, dsn=DSN) as conn:\n",
    "        conn.autocommit = False\n",
    "        cur = conn.cursor()\n",
    "\n",
    "        # Get bank_code -> bank_id map\n",
    "        cur.execute(\"SELECT bank_id, bank_code FROM banks\")\n",
    "        bank_map = {code.upper(): bid for (bid, code) in cur.fetchall()}\n",
    "\n",
    "        rows = []\n",
    "        with open(CSV_FILE, newline='', encoding=\"utf-8\") as f:\n",
    "            reader = csv.DictReader(f)\n",
    "            for r in reader:\n",
    "                bank_code = (r.get(\"bank\") or \"\").strip().upper()\n",
    "                bank_id = bank_map.get(bank_code)\n",
    "                if not bank_id:\n",
    "                    print(f\"⚠️ Skipping row with unknown bank: {bank_code}\")\n",
    "                    continue\n",
    "\n",
    "                rows.append((\n",
    "                    bank_id,\n",
    "                    (r.get(\"source\") or \"Google Play\").strip(),\n",
    "                    None,  # source_review_id not available in your CSV\n",
    "                    None,  # reviewer_name not available\n",
    "                    int(r[\"rating\"]) if r.get(\"rating\") else None,\n",
    "                    r.get(\"review\"),\n",
    "                    parse_date(r.get(\"date\")),\n",
    "                    None,  # lang_code (not in your CSV)\n",
    "                    None,  # sentiment_label (not in your CSV yet)\n",
    "                    None,  # sentiment_score (not in your CSV yet)\n",
    "                    None,  # themes (not in your CSV yet)\n",
    "                ))\n",
    "\n",
    "        insert_sql = \"\"\"\n",
    "        INSERT INTO reviews (\n",
    "            bank_id, source, source_review_id, reviewer_name, rating, review_text,\n",
    "            review_date, lang_code, sentiment_label, sentiment_score, themes\n",
    "        ) VALUES (\n",
    "            :1, :2, :3, :4, :5, :6,\n",
    "            :7, :8, :9, :10, :11\n",
    "        )\n",
    "        \"\"\"\n",
    "\n",
    "        cur.executemany(insert_sql, rows)\n",
    "        conn.commit()\n",
    "        print(f\"✅ Inserted {len(rows)} rows into reviews.\")\n",
    "\n",
    "if __name__ == \"__main__\":\n",
    "    main()\n"
   ]
  }
 ],
 "metadata": {
  "kernelspec": {
   "display_name": "venv (3.10.11)",
   "language": "python",
   "name": "python3"
  },
  "language_info": {
   "codemirror_mode": {
    "name": "ipython",
    "version": 3
   },
   "file_extension": ".py",
   "mimetype": "text/x-python",
   "name": "python",
   "nbconvert_exporter": "python",
   "pygments_lexer": "ipython3",
   "version": "3.10.11"
  }
 },
 "nbformat": 4,
 "nbformat_minor": 5
}
