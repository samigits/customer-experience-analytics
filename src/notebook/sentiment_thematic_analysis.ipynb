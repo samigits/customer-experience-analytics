{
 "cells": [
  {
   "cell_type": "code",
   "execution_count": null,
   "id": "887bccbd",
   "metadata": {},
   "outputs": [
    {
     "name": "stderr",
     "output_type": "stream",
     "text": [
      "d:\\Projects\\kifiyaAIMastery\\customer-experience-analytics\\venv\\lib\\site-packages\\tqdm\\auto.py:21: TqdmWarning: IProgress not found. Please update jupyter and ipywidgets. See https://ipywidgets.readthedocs.io/en/stable/user_install.html\n",
      "  from .autonotebook import tqdm as notebook_tqdm\n",
      "Device set to use cpu\n"
     ]
    }
   ],
   "source": [
    "# import necessary libraries\n",
    "from transformers import pipeline\n",
    "import pandas as pd\n",
    "import spacy\n",
    "from sklearn.feature_extraction.text import TfidfVectorizer\n",
    "\n",
    "\n",
    "# load cleaned reviews dataset\n",
    "df = pd.read_csv('../../data/clean_reviews.csv')\n",
    "\n",
    "\n",
    "classifier = pipeline(\"sentiment-analysis\", model=\"distilbert-base-uncased-finetuned-sst-2-english\")\n",
    "\n",
    "def classify_review(text):\n",
    "    result = classifier(text[:512])[0]  # Truncate long reviews\n",
    "    return pd.Series([result['label'], result['score']])\n",
    "\n",
    "df[['sentiment_label', 'sentiment_score']] = df['review'].apply(classify_review)"
   ]
  },
  {
   "cell_type": "code",
   "execution_count": 8,
   "id": "28eec920",
   "metadata": {},
   "outputs": [],
   "source": [
    "nlp = spacy.load(\"en_core_web_sm\", disable=[\"ner\", \"parser\"])\n",
    "def clean_text(text):\n",
    "    doc = nlp(text.lower())\n",
    "    tokens = [token.lemma_ for token in doc if token.is_alpha and not token.is_stop]\n",
    "    return ' '.join(tokens)\n",
    "\n",
    "df['cleaned_review'] = df['review'].apply(clean_text)"
   ]
  },
  {
   "cell_type": "code",
   "execution_count": 4,
   "id": "dc9725c9",
   "metadata": {},
   "outputs": [
    {
     "name": "stdout",
     "output_type": "stream",
     "text": [
      "['account' 'amazing' 'amole' 'app' 'application' 'bad' 'bank' 'banking'\n",
      " 'banking app' 'boa' 'cbe' 'crash' 'dashen' 'developer' 'easy' 'easy use'\n",
      " 'ethiopia' 'excellent' 'fast' 'fix' 'good' 'good app' 'great' 'like'\n",
      " 'mobile' 'mobile banking' 'money' 'need' 'nice' 'nice app' 'ok' 'open'\n",
      " 'option' 'problem' 'screenshot' 'send' 'service' 'simple' 'slow' 'thank'\n",
      " 'time' 'transaction' 'transfer' 'try' 'update' 'use' 'user' 'well' 'work'\n",
      " 'wow']\n"
     ]
    }
   ],
   "source": [
    "vectorizer = TfidfVectorizer(ngram_range=(1, 2), max_features=50)\n",
    "X = vectorizer.fit_transform(df['cleaned_review'])\n",
    "keywords = vectorizer.get_feature_names_out()\n",
    "print(keywords)"
   ]
  },
  {
   "cell_type": "code",
   "execution_count": null,
   "id": "06262784",
   "metadata": {},
   "outputs": [],
   "source": [
    "theme_map = {\n",
    "    'login': 'Account Access',\n",
    "    'error': 'Account Access',\n",
    "    'crash': 'Stability',\n",
    "    'support': 'Customer Support',\n",
    "    'transfer': 'Transactions',\n",
    "    'interface': 'User Experience',\n",
    "    'update': 'App Performance',\n",
    "    'fast': 'Speed'\n",
    "}\n",
    "\n",
    "def map_theme(text):\n",
    "    found = set()\n",
    "    for word in theme_map:\n",
    "        if word in text.lower():\n",
    "            found.add(theme_map[word])\n",
    "    return list(found) if found else ['Miscellaneous']\n",
    "\n",
    "df['identified_themes'] = df['cleaned_review'].apply(map_theme)\n",
    "\n",
    "df_final = df[['review', 'rating', 'bank', 'sentiment_label', 'sentiment_score', 'identified_themes']]\n",
    "df_final.to_csv('../../data/sentiment_themes_output.csv', index=False)\n",
    "\n",
    "# Average sentiment by bank and rating\n",
    "agg = df.groupby(['bank', 'rating'])['sentiment_score'].mean().reset_index()\n",
    "agg.to_csv(\"../../data/aggregated_sentiment_by_bank_rating.csv\", index=False)\n",
    "\n",
    "\n"
   ]
  }
 ],
 "metadata": {
  "kernelspec": {
   "display_name": "venv (3.10.11)",
   "language": "python",
   "name": "python3"
  },
  "language_info": {
   "codemirror_mode": {
    "name": "ipython",
    "version": 3
   },
   "file_extension": ".py",
   "mimetype": "text/x-python",
   "name": "python",
   "nbconvert_exporter": "python",
   "pygments_lexer": "ipython3",
   "version": "3.10.11"
  }
 },
 "nbformat": 4,
 "nbformat_minor": 5
}
