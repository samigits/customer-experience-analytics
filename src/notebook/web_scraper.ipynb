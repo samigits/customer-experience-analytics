{
 "cells": [
  {
   "cell_type": "code",
   "execution_count": 1,
   "metadata": {},
   "outputs": [],
   "source": [
    "# ------------------------\n",
    "# SETUP AND IMPORTS\n",
    "# ------------------------\n",
    "\n",
    "import pandas as pd\n",
    "from google_play_scraper import reviews\n",
    "\n",
    "# ------------------------------\n",
    "# METHOD: SCRAP PAGE DYNAMICALLY\n",
    "# ------------------------------\n",
    "def scrap_reviews(app_id, bank_name, n_reviews=500):\n",
    "    result, _= reviews(app_id, lang='en',count =n_reviews)\n",
    "    data=[{\"review\": r[\"content\"], \"rating\": r[\"score\"],\n",
    "        \"date\": r[\"at\"].strftime('%Y-%m-%d'),\n",
    "        \"bank\": bank_name,\n",
    "        \"source\": \"Google Play\"\n",
    "        } for r in result]\n",
    "    return pd.DataFrame(data)"
   ]
  },
  {
   "cell_type": "code",
   "execution_count": 2,
   "metadata": {},
   "outputs": [],
   "source": [
    "# Scrap each bank reviews and concat together\n",
    "df = pd.concat([\n",
    "    scrap_reviews(\"com.combanketh.mobilebanking\", \"CBE\"),\n",
    "    scrap_reviews(\"com.boa.boaMobileBanking\", \"BOA\"),\n",
    "    scrap_reviews(\"com.cr2.amolelight\", \"Dashen\")\n",
    "])\n",
    "df.to_csv(\"../../data/raw_reviews.csv\", index=False)"
   ]
  },
  {
   "cell_type": "code",
   "execution_count": 3,
   "metadata": {},
   "outputs": [],
   "source": [
    "# -------------\n",
    "# CLEANING DATA\n",
    "# -------------\n",
    "df.drop_duplicates(subset=[\"review\", \"date\", \"bank\"], inplace=True)\n",
    "\n",
    "df.dropna(subset=[\"review\", \"rating\", \"date\"], inplace=True)\n",
    "\n",
    "df.to_csv(\"../../data/clean_reviews.csv\", index=False)"
   ]
  }
 ],
 "metadata": {
  "kernelspec": {
   "display_name": "venv (3.10.11)",
   "language": "python",
   "name": "python3"
  },
  "language_info": {
   "codemirror_mode": {
    "name": "ipython",
    "version": 3
   },
   "file_extension": ".py",
   "mimetype": "text/x-python",
   "name": "python",
   "nbconvert_exporter": "python",
   "pygments_lexer": "ipython3",
   "version": "3.10.11"
  }
 },
 "nbformat": 4,
 "nbformat_minor": 2
}
